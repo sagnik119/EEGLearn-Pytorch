{
 "cells": [
  {
   "cell_type": "markdown",
   "metadata": {},
   "source": [
    "# Pytorch Implementation of EEGLearn - P. Bashivan"
   ]
  },
  {
   "cell_type": "markdown",
   "metadata": {},
   "source": [
    "This notebook describes a short summary of Pytorch implementation of the models described in \"Learning Representations from EEG with Deep Recurrent-Convolutional Neural Networks.\" Bashivan et al. at International conference on learning representations (2016).\n",
    "\n",
    "The rest of the code is in the different python scripts of this repo.\n",
    "\n",
    "All the codes have been inspired from the [original github](https://github.com/pbashivan/EEGLearn)."
   ]
  },
  {
   "cell_type": "markdown",
   "metadata": {},
   "source": [
    "## Librairies Import"
   ]
  },
  {
   "cell_type": "code",
   "execution_count": 1,
   "metadata": {},
   "outputs": [],
   "source": [
    "import numpy as np \n",
    "import scipy.io as sio\n",
    "from scipy import signal\n",
    "import torch\n",
    "import os \n",
    "import pandas as pd\n",
    "\n",
    "device = torch.device('cuda' if torch.cuda.is_available() else 'cpu')\n",
    "\n",
    "import torch.optim as optim\n",
    "import torch.nn.functional as F\n",
    "\n",
    "from torch.autograd import Variable\n",
    "from torch.utils.data.dataset import Dataset\n",
    "from torch.utils.data import DataLoader,random_split\n",
    "from matplotlib import pyplot as plt\n",
    "\n",
    "from Utils import *\n",
    "from Models import *\n",
    "\n",
    "torch.manual_seed(1234)\n",
    "np.random.seed(1234)\n",
    "\n",
    "import warnings\n",
    "warnings.simplefilter(\"ignore\")"
   ]
  },
  {
   "cell_type": "markdown",
   "metadata": {},
   "source": [
    "## Loading the original Images \n",
    "The images have directly been taken from original implementation, given that they remain the same nevermind the implementation (Pytorch, Tensorflow, Theano)."
   ]
  },
  {
   "cell_type": "markdown",
   "metadata": {},
   "source": [
    "## Loading patient dataset \n",
    "From the total data, we select the images corresponding patient. "
   ]
  },
  {
   "cell_type": "code",
   "execution_count": 96,
   "metadata": {},
   "outputs": [],
   "source": [
    "chosen_patient = 1\n",
    "# load file from folder kamyar_data\n",
    "# files = sio.loadmat(\"kamyar_data/TrainData1.mat\")['TrainData1']\n",
    "files = sio.loadmat(\"kamyar_data/TestData1.mat\")['TestData1']\n",
    "Mean_Images = files[:,:]\n",
    "Label = files[:,9]\n"
   ]
  },
  {
   "cell_type": "code",
   "execution_count": 97,
   "metadata": {},
   "outputs": [],
   "source": [
    " # **************************** Data Segmentation *********************\n",
    "def DataSegmentation(data, t1, t2):\n",
    "    Data_Frame = pd.DataFrame()\n",
    "    df = pd.DataFrame(data)\n",
    "    dt = df.loc[0][1] - df.loc[0][0]\n",
    "    fs = 1/dt\n",
    "    sample_num = np.floor((t1+t2)*fs)\n",
    "    epoch_loc = np.where(np.diff(np.sign(df.loc[9])) == 1)[0] + 1\n",
    "    for j in range(1,9):\n",
    "        signals = []\n",
    "        for i in range(epoch_loc.shape[0]):\n",
    "            temp = df.loc[j][epoch_loc[i]-np.int64(t1*fs) : epoch_loc[i]+np.int64(t2*fs)+1].values\n",
    "            # temp = temp/np.max(abs(temp))\n",
    "            signals.append(temp)\n",
    "        Data_Frame['Ch' + str(j)] = signals\n",
    "    Data_Frame['ChannelMean'] = [[0] for i in range(Data_Frame.shape[0])]\n",
    "    for i in range(Data_Frame.shape[0]):\n",
    "        Data_Frame['ChannelMean'][i] = np.mean(Data_Frame.loc[i][:-1])\n",
    "\n",
    "    try:\n",
    "        target_loc = np.where(df.loc[10] == 1)[0]\n",
    "        labels = np.zeros(epoch_loc.shape)\n",
    "        for i in range(target_loc.shape[0]):\n",
    "            temp = np.where(epoch_loc == target_loc[i])[0]\n",
    "            if temp.shape[0] == 0:\n",
    "                continue\n",
    "            labels[temp[0]] = 1\n",
    "        Data_Frame['labels'] = labels\n",
    "        return (Data_Frame, fs, pd.DataFrame(data).loc[9][epoch_loc].values)\n",
    "    except:\n",
    "        return (Data_Frame, fs, pd.DataFrame(data).loc[9][epoch_loc].values)"
   ]
  },
  {
   "cell_type": "code",
   "execution_count": 98,
   "metadata": {},
   "outputs": [
    {
     "ename": "KeyError",
     "evalue": "'labels'",
     "output_type": "error",
     "traceback": [
      "\u001b[1;31m---------------------------------------------------------------------------\u001b[0m",
      "\u001b[1;31mKeyError\u001b[0m                                  Traceback (most recent call last)",
      "File \u001b[1;32mc:\\Program Files\\Python310\\lib\\site-packages\\pandas\\core\\indexes\\base.py:3802\u001b[0m, in \u001b[0;36mIndex.get_loc\u001b[1;34m(self, key, method, tolerance)\u001b[0m\n\u001b[0;32m   3801\u001b[0m \u001b[39mtry\u001b[39;00m:\n\u001b[1;32m-> 3802\u001b[0m     \u001b[39mreturn\u001b[39;00m \u001b[39mself\u001b[39;49m\u001b[39m.\u001b[39;49m_engine\u001b[39m.\u001b[39;49mget_loc(casted_key)\n\u001b[0;32m   3803\u001b[0m \u001b[39mexcept\u001b[39;00m \u001b[39mKeyError\u001b[39;00m \u001b[39mas\u001b[39;00m err:\n",
      "File \u001b[1;32mc:\\Program Files\\Python310\\lib\\site-packages\\pandas\\_libs\\index.pyx:138\u001b[0m, in \u001b[0;36mpandas._libs.index.IndexEngine.get_loc\u001b[1;34m()\u001b[0m\n",
      "File \u001b[1;32mc:\\Program Files\\Python310\\lib\\site-packages\\pandas\\_libs\\index.pyx:165\u001b[0m, in \u001b[0;36mpandas._libs.index.IndexEngine.get_loc\u001b[1;34m()\u001b[0m\n",
      "File \u001b[1;32mpandas\\_libs\\hashtable_class_helper.pxi:5745\u001b[0m, in \u001b[0;36mpandas._libs.hashtable.PyObjectHashTable.get_item\u001b[1;34m()\u001b[0m\n",
      "File \u001b[1;32mpandas\\_libs\\hashtable_class_helper.pxi:5753\u001b[0m, in \u001b[0;36mpandas._libs.hashtable.PyObjectHashTable.get_item\u001b[1;34m()\u001b[0m\n",
      "\u001b[1;31mKeyError\u001b[0m: 'labels'",
      "\nThe above exception was the direct cause of the following exception:\n",
      "\u001b[1;31mKeyError\u001b[0m                                  Traceback (most recent call last)",
      "\u001b[1;32mc:\\GitHub\\EEGLearn-Pytorch-fork\\EEGLearn_ShortDemo.ipynb Cell 9\u001b[0m line \u001b[0;36m3\n\u001b[0;32m      <a href='vscode-notebook-cell:/c%3A/GitHub/EEGLearn-Pytorch-fork/EEGLearn_ShortDemo.ipynb#X54sZmlsZQ%3D%3D?line=0'>1</a>\u001b[0m signal \u001b[39m=\u001b[39m np\u001b[39m.\u001b[39mzeros((\u001b[39m2700\u001b[39m,\u001b[39m8\u001b[39m,\u001b[39m128\u001b[39m))\n\u001b[0;32m      <a href='vscode-notebook-cell:/c%3A/GitHub/EEGLearn-Pytorch-fork/EEGLearn_ShortDemo.ipynb#X54sZmlsZQ%3D%3D?line=1'>2</a>\u001b[0m df, _, _ \u001b[39m=\u001b[39m DataSegmentation(files, \u001b[39m0.1\u001b[39m, \u001b[39m0.4\u001b[39m)\n\u001b[1;32m----> <a href='vscode-notebook-cell:/c%3A/GitHub/EEGLearn-Pytorch-fork/EEGLearn_ShortDemo.ipynb#X54sZmlsZQ%3D%3D?line=2'>3</a>\u001b[0m labels \u001b[39m=\u001b[39m df[\u001b[39m'\u001b[39;49m\u001b[39mlabels\u001b[39;49m\u001b[39m'\u001b[39;49m]\u001b[39m.\u001b[39mvalues\n\u001b[0;32m      <a href='vscode-notebook-cell:/c%3A/GitHub/EEGLearn-Pytorch-fork/EEGLearn_ShortDemo.ipynb#X54sZmlsZQ%3D%3D?line=3'>4</a>\u001b[0m \u001b[39mfor\u001b[39;00m ch \u001b[39min\u001b[39;00m \u001b[39mrange\u001b[39m(\u001b[39m1\u001b[39m,\u001b[39m9\u001b[39m):\n\u001b[0;32m      <a href='vscode-notebook-cell:/c%3A/GitHub/EEGLearn-Pytorch-fork/EEGLearn_ShortDemo.ipynb#X54sZmlsZQ%3D%3D?line=4'>5</a>\u001b[0m     \u001b[39mfor\u001b[39;00m i \u001b[39min\u001b[39;00m \u001b[39mrange\u001b[39m(df\u001b[39m.\u001b[39mshape[\u001b[39m0\u001b[39m]):\n",
      "File \u001b[1;32mc:\\Program Files\\Python310\\lib\\site-packages\\pandas\\core\\frame.py:3807\u001b[0m, in \u001b[0;36mDataFrame.__getitem__\u001b[1;34m(self, key)\u001b[0m\n\u001b[0;32m   3805\u001b[0m \u001b[39mif\u001b[39;00m \u001b[39mself\u001b[39m\u001b[39m.\u001b[39mcolumns\u001b[39m.\u001b[39mnlevels \u001b[39m>\u001b[39m \u001b[39m1\u001b[39m:\n\u001b[0;32m   3806\u001b[0m     \u001b[39mreturn\u001b[39;00m \u001b[39mself\u001b[39m\u001b[39m.\u001b[39m_getitem_multilevel(key)\n\u001b[1;32m-> 3807\u001b[0m indexer \u001b[39m=\u001b[39m \u001b[39mself\u001b[39;49m\u001b[39m.\u001b[39;49mcolumns\u001b[39m.\u001b[39;49mget_loc(key)\n\u001b[0;32m   3808\u001b[0m \u001b[39mif\u001b[39;00m is_integer(indexer):\n\u001b[0;32m   3809\u001b[0m     indexer \u001b[39m=\u001b[39m [indexer]\n",
      "File \u001b[1;32mc:\\Program Files\\Python310\\lib\\site-packages\\pandas\\core\\indexes\\base.py:3804\u001b[0m, in \u001b[0;36mIndex.get_loc\u001b[1;34m(self, key, method, tolerance)\u001b[0m\n\u001b[0;32m   3802\u001b[0m     \u001b[39mreturn\u001b[39;00m \u001b[39mself\u001b[39m\u001b[39m.\u001b[39m_engine\u001b[39m.\u001b[39mget_loc(casted_key)\n\u001b[0;32m   3803\u001b[0m \u001b[39mexcept\u001b[39;00m \u001b[39mKeyError\u001b[39;00m \u001b[39mas\u001b[39;00m err:\n\u001b[1;32m-> 3804\u001b[0m     \u001b[39mraise\u001b[39;00m \u001b[39mKeyError\u001b[39;00m(key) \u001b[39mfrom\u001b[39;00m \u001b[39merr\u001b[39;00m\n\u001b[0;32m   3805\u001b[0m \u001b[39mexcept\u001b[39;00m \u001b[39mTypeError\u001b[39;00m:\n\u001b[0;32m   3806\u001b[0m     \u001b[39m# If we have a listlike key, _check_indexing_error will raise\u001b[39;00m\n\u001b[0;32m   3807\u001b[0m     \u001b[39m#  InvalidIndexError. Otherwise we fall through and re-raise\u001b[39;00m\n\u001b[0;32m   3808\u001b[0m     \u001b[39m#  the TypeError.\u001b[39;00m\n\u001b[0;32m   3809\u001b[0m     \u001b[39mself\u001b[39m\u001b[39m.\u001b[39m_check_indexing_error(key)\n",
      "\u001b[1;31mKeyError\u001b[0m: 'labels'"
     ]
    }
   ],
   "source": [
    "signal = np.zeros((2700,8,128))\n",
    "df, _, _ = DataSegmentation(files, 0.1, 0.4)\n",
    "labels = df['labels'].values\n",
    "for ch in range(1,9):\n",
    "    for i in range(df.shape[0]):\n",
    "        signal[i,ch-1,:] = df.iloc[i][f\"Ch{ch}\"]"
   ]
  },
  {
   "cell_type": "code",
   "execution_count": null,
   "metadata": {},
   "outputs": [],
   "source": [
    "def calculate_sub_band_energy(eeg_data, sampling_rate):\n",
    "    # Define frequency bands\n",
    "    theta_band = (4, 8)\n",
    "    alpha_band = (8, 13)\n",
    "    beta_band = (13, 30)\n",
    "\n",
    "    # Apply FFT\n",
    "    fft_result = np.fft.fft(eeg_data)\n",
    "    freqs = np.fft.fftfreq(len(eeg_data), d=1/sampling_rate)\n",
    "\n",
    "    # Function to calculate band power\n",
    "    def band_power(band):\n",
    "        band_freqs = (freqs >= band[0]) & (freqs <= band[1])\n",
    "        return np.sum(np.abs(fft_result[band_freqs]) ** 2)\n",
    "\n",
    "    # Calculate power for each band\n",
    "    theta_power = band_power(theta_band)\n",
    "    alpha_power = band_power(alpha_band)\n",
    "    beta_power = band_power(beta_band)\n",
    "    return theta_power, alpha_power, beta_power"
   ]
  },
  {
   "cell_type": "code",
   "execution_count": null,
   "metadata": {},
   "outputs": [],
   "source": [
    "# send signal to calculate_sub_band_energy\n",
    "theta_power = np.zeros((2700,8))\n",
    "alpha_power = np.zeros((2700,8))\n",
    "beta_power = np.zeros((2700,8))\n",
    "for i in range(2700):\n",
    "    for ch in range(8):\n",
    "        theta_power[i,ch], alpha_power[i,ch], beta_power[i,ch] = calculate_sub_band_energy(signal[i,ch,:], 240)\n",
    "# concatenate the features\n",
    "features = np.concatenate((theta_power, alpha_power, beta_power), axis=1)"
   ]
  },
  {
   "cell_type": "code",
   "execution_count": 99,
   "metadata": {},
   "outputs": [
    {
     "data": {
      "text/plain": [
       "(2700, 24)"
      ]
     },
     "execution_count": 99,
     "metadata": {},
     "output_type": "execute_result"
    }
   ],
   "source": [
    "features.shape"
   ]
  },
  {
   "cell_type": "code",
   "execution_count": 100,
   "metadata": {},
   "outputs": [],
   "source": [
    "# # each row of mean_images represents a signal in time domain, take the wavelet transform of each row\n",
    "# cwts,_,_ = DataSegmentation(Mean_Images, 100/1000, 400/1000)"
   ]
  },
  {
   "cell_type": "code",
   "execution_count": 101,
   "metadata": {},
   "outputs": [],
   "source": [
    "# signals = cwts.iloc[:,:-2].values\n",
    "# signals = signals.flatten()\n",
    "# signals = np.array([np.array(signals[i]) for i in range(signals.shape[0])])\n",
    "# print (signals.shape)\n",
    "# labels = cwts.iloc[:,-1].values"
   ]
  },
  {
   "cell_type": "code",
   "execution_count": 102,
   "metadata": {},
   "outputs": [],
   "source": [
    "# # convert each row of signals to wavelet transform matrix\n",
    "# wavelets = np.zeros((signals.shape[0], 128, 128))\n",
    "# for i in range(signals.shape[0]):\n",
    "#     wavelets[i,:,:] = signal.cwt(signals[i,:], signal.ricker, np.arange(1, 129))\n",
    "    \n",
    "# wavelets = wavelets.reshape((wavelets.shape[0], 1, wavelets.shape[1], wavelets.shape[2]))\n",
    "# wavelets = wavelets.reshape((int(wavelets.shape[0] / 8), 8, wavelets.shape[2], wavelets.shape[3]))\n",
    "# print (wavelets.shape)\n",
    "# print (labels.shape)"
   ]
  },
  {
   "cell_type": "code",
   "execution_count": 103,
   "metadata": {},
   "outputs": [],
   "source": [
    "# signals = signals.reshape((signals.shape[0], 1, signals.shape[1], wavelets.shape[2]))\n",
    "# wavelets = wavelets.reshape((int(wavelets.shape[0] / 8), 8, wavelets.shape[2], wavelets.shape[3]))\n",
    "# print (wavelets.shape)\n",
    "# print (labels.shape)"
   ]
  },
  {
   "cell_type": "code",
   "execution_count": 104,
   "metadata": {},
   "outputs": [
    {
     "name": "stdout",
     "output_type": "stream",
     "text": [
      "[[ 1.25460900e-01  3.86128946e-01]\n",
      " [-1.25460900e-01  3.86128946e-01]\n",
      " [-4.06000000e-01  2.48603300e-17]\n",
      " [ 4.06000000e-01  2.48603300e-17]\n",
      " [ 2.03000000e-01  1.24301650e-17]\n",
      " [-1.25460900e-01 -3.86128946e-01]\n",
      " [-2.03000000e-01  1.24301650e-17]\n",
      " [ 1.25460900e-01 -3.86128946e-01]]\n"
     ]
    }
   ],
   "source": [
    "# Electrode coordinates in polar form (angle in degrees, radial distance)\n",
    "electrode_polar_coordinates = np.array([\n",
    "    [18, 0.406],   # Fp2\n",
    "    [-18, 0.406],  # Fp1\n",
    "    [-90, 0.406],  # T7\n",
    "    [90, 0.406],   # T8\n",
    "    [90, 0.203],   # C4\n",
    "    [-162, 0.406], # O1\n",
    "    [-90, 0.203],  # C3\n",
    "    [162, 0.406]   # O2\n",
    "])\n",
    "\n",
    "# Convert angles from degrees to radians\n",
    "angles_rad = np.radians(electrode_polar_coordinates[:, 0])\n",
    "\n",
    "# Calculate Cartesian coordinates\n",
    "y = electrode_polar_coordinates[:, 1] * np.cos(angles_rad)\n",
    "x = electrode_polar_coordinates[:, 1] * np.sin(angles_rad)\n",
    "\n",
    "# Combine x and y into a single array\n",
    "electrode_cartesian_coordinates = np.column_stack((x, y))\n",
    "\n",
    "# Displaying the Cartesian coordinates\n",
    "print(electrode_cartesian_coordinates)\n"
   ]
  },
  {
   "cell_type": "code",
   "execution_count": 105,
   "metadata": {},
   "outputs": [],
   "source": [
    "# copying utils from big repo\n",
    "def cart2sph(x, y, z):\n",
    "    \"\"\"\n",
    "    Transform Cartesian coordinates to spherical\n",
    "    :param x: X coordinate\n",
    "    :param y: Y coordinate\n",
    "    :param z: Z coordinate\n",
    "    :return: radius, elevation, azimuth\n",
    "    \"\"\"\n",
    "    x2_y2 = x**2 + y**2\n",
    "    r = m.sqrt(x2_y2 + z**2)                    # r\n",
    "    elev = m.atan2(z, m.sqrt(x2_y2))            # Elevation\n",
    "    az = m.atan2(y, x)                          # Azimuth\n",
    "    return r, elev, az\n",
    "\n",
    "\n",
    "def pol2cart(theta, rho):\n",
    "    \"\"\"\n",
    "    Transform polar coordinates to Cartesian\n",
    "    :param theta: angle value\n",
    "    :param rho: radius value\n",
    "    :return: X, Y\n",
    "    \"\"\"\n",
    "    return rho * m.cos(theta), rho * m.sin(theta)\n",
    "\n",
    "\n",
    "def augment_EEG(data, stdMult, pca=False, n_components=2):\n",
    "    \"\"\"\n",
    "    Augment data by adding normal noise to each feature.\n",
    "\n",
    "    :param data: EEG feature data as a matrix (n_samples x n_features)\n",
    "    :param stdMult: Multiplier for std of added noise\n",
    "    :param pca: if True will perform PCA on data and add noise proportional to PCA components.\n",
    "    :param n_components: Number of components to consider when using PCA.\n",
    "    :return: Augmented data as a matrix (n_samples x n_features)\n",
    "    \"\"\"\n",
    "    augData = np.zeros(data.shape)\n",
    "    if pca:\n",
    "        pca = PCA(n_components=n_components)\n",
    "        pca.fit(data)\n",
    "        components = pca.components_\n",
    "        variances = pca.explained_variance_ratio_\n",
    "        coeffs = np.random.normal(scale=stdMult, size=pca.n_components) * variances\n",
    "        for s, sample in enumerate(data):\n",
    "            augData[s, :] = sample + (components * coeffs.reshape((n_components, -1))).sum(axis=0)\n",
    "    else:\n",
    "        # Add Gaussian noise with std determined by weighted std of each feature\n",
    "        for f, feat in enumerate(data.transpose()):\n",
    "            augData[:, f] = feat + np.random.normal(scale=stdMult*np.std(feat), size=feat.size)\n",
    "    return augData\n",
    "\n",
    "\n",
    "def augment_EEG_image(image, std_mult, pca=False, n_components=2):\n",
    "    \"\"\"\n",
    "    Augment data by adding normal noise to each feature.\n",
    "\n",
    "    :param image: EEG feature data as a a colored image [n_samples, n_colors, W, H]\n",
    "    :param std_mult: Multiplier for std of added noise\n",
    "    :param pca: if True will perform PCA on data and add noise proportional to PCA components.\n",
    "    :param n_components: Number of components to consider when using PCA.\n",
    "    :return: Augmented data as a matrix (n_samples x n_features)\n",
    "    \"\"\"\n",
    "    augData = np.zeros((data.shape[0], data.shape[1], data.shape[2] * data.shape[3]))\n",
    "    for c in range(image.shape[1]):\n",
    "        reshData = np.reshape(data['featMat'][:, c, :, :], (data['featMat'].shape[0], -1))\n",
    "        if pca:\n",
    "            augData[:, c, :] = augment_EEG(reshData, std_mult, pca=True, n_components=n_components)\n",
    "        else:\n",
    "            augData[:, c, :] = augment_EEG(reshData, std_mult, pca=False)\n",
    "    return np.reshape(augData, data['featMat'].shape)\n",
    "\n",
    "\n",
    "def load_data(data_file):\n",
    "    \"\"\"\n",
    "    Loads the data from MAT file. MAT file should contain two\n",
    "    variables. 'featMat' which contains the feature matrix in the\n",
    "    shape of [samples, features] and 'labels' which contains the output\n",
    "    labels as a vector. Label numbers are assumed to start from 1.\n",
    "\n",
    "    Parameters\n",
    "    ----------\n",
    "    data_file: str\n",
    "\n",
    "    Returns\n",
    "    -------\n",
    "    data: array_like\n",
    "    \"\"\"\n",
    "    print(\"Loading data from %s\" % (data_file))\n",
    "\n",
    "    dataMat = scipy.io.loadmat(data_file, mat_dtype=True)\n",
    "\n",
    "    print(\"Data loading complete. Shape is %r\" % (dataMat['featMat'].shape,))\n",
    "    return dataMat['features'][:, :-1], dataMat['features'][:, -1] - 1   # Sequential indices\n",
    "\n",
    "\n",
    "def reformatInput(data, labels, indices):\n",
    "    \"\"\"\n",
    "    Receives the the indices for train and test datasets.\n",
    "    Outputs the train, validation, and test data and label datasets.\n",
    "    \"\"\"\n",
    "\n",
    "    trainIndices = indices[0][len(indices[1]):]\n",
    "    validIndices = indices[0][:len(indices[1])]\n",
    "    testIndices = indices[1]\n",
    "    # Shuffling training data\n",
    "    # shuffledIndices = np.random.permutation(len(trainIndices))\n",
    "    # trainIndices = trainIndices[shuffledIndices]\n",
    "    if data.ndim == 4:\n",
    "        return [(data[trainIndices], np.squeeze(labels[trainIndices]).astype(np.int32)),\n",
    "                (data[validIndices], np.squeeze(labels[validIndices]).astype(np.int32)),\n",
    "                (data[testIndices], np.squeeze(labels[testIndices]).astype(np.int32))]\n",
    "    elif data.ndim == 5:\n",
    "        return [(data[:, trainIndices], np.squeeze(labels[trainIndices]).astype(np.int32)),\n",
    "                (data[:, validIndices], np.squeeze(labels[validIndices]).astype(np.int32)),\n",
    "                (data[:, testIndices], np.squeeze(labels[testIndices]).astype(np.int32))]"
   ]
  },
  {
   "cell_type": "code",
   "execution_count": 106,
   "metadata": {},
   "outputs": [],
   "source": [
    "def gen_images(locs, features, n_gridpoints, normalize=True,\n",
    "               augment=False, pca=False, std_mult=0.1, n_components=2, edgeless=False):\n",
    "    \"\"\"\n",
    "    Generates EEG images given electrode locations in 2D space and multiple feature values for each electrode\n",
    "\n",
    "    :param locs: An array with shape [n_electrodes, 2] containing X, Y\n",
    "                        coordinates for each electrode.\n",
    "    :param features: Feature matrix as [n_samples, n_features]\n",
    "                                Features are as columns.\n",
    "                                Features corresponding to each frequency band are concatenated.\n",
    "                                (alpha1, alpha2, ..., beta1, beta2,...)\n",
    "    :param n_gridpoints: Number of pixels in the output images\n",
    "    :param normalize:   Flag for whether to normalize each band over all samples\n",
    "    :param augment:     Flag for generating augmented images\n",
    "    :param pca:         Flag for PCA based data augmentation\n",
    "    :param std_mult     Multiplier for std of added noise\n",
    "    :param n_components: Number of components in PCA to retain for augmentation\n",
    "    :param edgeless:    If True generates edgeless images by adding artificial channels\n",
    "                        at four corners of the image with value = 0 (default=False).\n",
    "    :return:            Tensor of size [samples, colors, W, H] containing generated\n",
    "                        images.\n",
    "    \"\"\"\n",
    "    feat_array_temp = []\n",
    "    nElectrodes = locs.shape[0]     # Number of electrodes\n",
    "\n",
    "    # Test whether the feature vector length is divisible by number of electrodes\n",
    "    assert features.shape[1] % nElectrodes == 0\n",
    "    n_colors = np.uint(features.shape[1] / nElectrodes)\n",
    "    for c in range(n_colors):\n",
    "        feat_array_temp.append(features[:, c * nElectrodes : nElectrodes * (c+1)])\n",
    "    if augment:\n",
    "        if pca:\n",
    "            for c in range(n_colors):\n",
    "                feat_array_temp[c] = augment_EEG(feat_array_temp[c], std_mult, pca=True, n_components=n_components)\n",
    "        else:\n",
    "            for c in range(n_colors):\n",
    "                feat_array_temp[c] = augment_EEG(feat_array_temp[c], std_mult, pca=False, n_components=n_components)\n",
    "    n_samples = features.shape[0]\n",
    "\n",
    "    # Interpolate the values\n",
    "    grid_x, grid_y = np.mgrid[\n",
    "                     min(locs[:, 0]):max(locs[:, 0]):n_gridpoints*1j,\n",
    "                     min(locs[:, 1]):max(locs[:, 1]):n_gridpoints*1j\n",
    "                     ]\n",
    "    temp_interp = []\n",
    "    for c in range(n_colors):\n",
    "        temp_interp.append(np.zeros([n_samples, n_gridpoints, n_gridpoints]))\n",
    "\n",
    "    # Generate edgeless images\n",
    "    if edgeless:\n",
    "        min_x, min_y = np.min(locs, axis=0)\n",
    "        max_x, max_y = np.max(locs, axis=0)\n",
    "        locs = np.append(locs, np.array([[min_x, min_y], [min_x, max_y], [max_x, min_y], [max_x, max_y]]), axis=0)\n",
    "        for c in range(n_colors):\n",
    "            feat_array_temp[c] = np.append(feat_array_temp[c], np.zeros((n_samples, 4)), axis=1)\n",
    "\n",
    "    # Interpolating\n",
    "    for i in range(n_samples):\n",
    "        for c in range(n_colors):\n",
    "            temp_interp[c][i, :, :] = griddata(locs, feat_array_temp[c][i, :], (grid_x, grid_y),\n",
    "                                               method='cubic', fill_value=np.nan)\n",
    "        print('Interpolating {0}/{1}\\r'.format(i + 1, n_samples), end='\\r')\n",
    "\n",
    "    # Normalizing\n",
    "    for c in range(n_colors):\n",
    "        if normalize:\n",
    "            temp_interp[c][~np.isnan(temp_interp[c])] = \\\n",
    "                scale(temp_interp[c][~np.isnan(temp_interp[c])])\n",
    "        temp_interp[c] = np.nan_to_num(temp_interp[c])\n",
    "    return np.swapaxes(np.asarray(temp_interp), 0, 1)     # swap axes to have [samples, colors, W, H]\n"
   ]
  },
  {
   "cell_type": "code",
   "execution_count": 107,
   "metadata": {},
   "outputs": [
    {
     "name": "stdout",
     "output_type": "stream",
     "text": [
      "Interpolating 2700/2700terpolating 61/2700Interpolating 138/2700Interpolating 208/2700Interpolating 283/2700Interpolating 349/2700Interpolating 415/2700Interpolating 483/2700Interpolating 552/2700Interpolating 612/2700Interpolating 676/2700Interpolating 753/2700Interpolating 815/2700Interpolating 891/2700Interpolating 969/2700Interpolating 1033/2700Interpolating 1102/2700Interpolating 1168/2700Interpolating 1230/2700Interpolating 1298/2700Interpolating 1360/2700Interpolating 1435/2700Interpolating 1511/2700Interpolating 1590/2700Interpolating 1647/2700Interpolating 1720/2700Interpolating 1793/2700Interpolating 1860/2700Interpolating 1932/2700Interpolating 2005/2700Interpolating 2080/2700Interpolating 2157/2700Interpolating 2235/2700Interpolating 2312/2700Interpolating 2393/2700Interpolating 2472/2700Interpolating 2547/2700Interpolating 2623/2700(2700, 3, 32, 32)\n"
     ]
    }
   ],
   "source": [
    "n_gridpoints = 32\n",
    "# Generate images\n",
    "images = gen_images(electrode_cartesian_coordinates, features, n_gridpoints, augment=True, pca=False, std_mult=0.1, n_components=2, edgeless=False)\n",
    "print (images.shape)"
   ]
  },
  {
   "cell_type": "code",
   "execution_count": 108,
   "metadata": {},
   "outputs": [
    {
     "data": {
      "image/png": "[encoded data removed]",
      "text/plain": [
       "<Figure size 500x300 with 1 Axes>"
      ]
     },
     "metadata": {},
     "output_type": "display_data"
    },
    {
     "data": {
      "image/png": "[encoded data removed]",
      "text/plain": [
       "<Figure size 500x300 with 1 Axes>"
      ]
     },
     "metadata": {},
     "output_type": "display_data"
    },
    {
     "data": {
      "image/png": "[encoded data removed]",
      "text/plain": [
       "<Figure size 500x300 with 1 Axes>"
      ]
     },
     "metadata": {},
     "output_type": "display_data"
    }
   ],
   "source": [
    "# plot features\n",
    "plt.figure(figsize=(5, 3))\n",
    "plt.plot(features[0, :8])\n",
    "plt.title('Theta')\n",
    "plt.figure(figsize=(5, 3))\n",
    "plt.plot(features[0, 8:16])\n",
    "plt.title('Alpha')\n",
    "plt.figure(figsize=(5, 3))\n",
    "plt.plot(features[0, 16:24])\n",
    "plt.title('Beta')\n",
    "plt.show()\n"
   ]
  },
  {
   "cell_type": "code",
   "execution_count": 109,
   "metadata": {},
   "outputs": [
    {
     "name": "stderr",
     "output_type": "stream",
     "text": [
      "Clipping input data to the valid range for imshow with RGB data ([0..1] for floats or [0..255] for integers).\n"
     ]
    },
    {
     "data": {
      "text/plain": [
       "<matplotlib.image.AxesImage at 0x2962c6b3e80>"
      ]
     },
     "execution_count": 109,
     "metadata": {},
     "output_type": "execute_result"
    },
    {
     "data": {
      "image/png": "[encoded data removed]",
      "text/plain": [
       "<Figure size 640x480 with 1 Axes>"
      ]
     },
     "metadata": {},
     "output_type": "display_data"
    }
   ],
   "source": [
    "# plot one image\n",
    "plt.imshow(np.transpose(images[2552,:,:,:], (1,2,0)))"
   ]
  },
  {
   "cell_type": "markdown",
   "metadata": {},
   "source": [
    "## Introduction: BasicCNN\n",
    "First Implementation of a CNN on the Mean Images from each patient"
   ]
  },
  {
   "cell_type": "code",
   "execution_count": 110,
   "metadata": {},
   "outputs": [],
   "source": [
    "train_part = 0.8\n",
    "test_part = 0.2\n",
    "\n",
    "batch_size = 32"
   ]
  },
  {
   "cell_type": "code",
   "execution_count": 111,
   "metadata": {},
   "outputs": [
    {
     "name": "stdout",
     "output_type": "stream",
     "text": [
      "(2700,)\n"
     ]
    }
   ],
   "source": [
    "# cast labels to long int\n",
    "labels = labels.astype(np.int64)\n",
    "print (labels.shape)"
   ]
  },
  {
   "cell_type": "code",
   "execution_count": 112,
   "metadata": {},
   "outputs": [
    {
     "name": "stdout",
     "output_type": "stream",
     "text": [
      "(2700, 3, 32, 32)\n"
     ]
    }
   ],
   "source": [
    "wavelets = images\n",
    "print (wavelets.shape)\n",
    "# # split data into two parts based on labels being 0 or 1\n",
    "# wavelets_0 = wavelets[labels == 0]\n",
    "# print (wavelets_0.shape)\n",
    "# wavelets_1 = wavelets[labels == 1]\n",
    "# # shuffle both and corresponding elements of labels\n",
    "# inds = np.arange(wavelets_0.shape[0])\n",
    "\n",
    "# wavelets_0 = wavelets_0[inds]\n",
    "# labels_0 = labels[labels == 0][inds]\n",
    "\n",
    "# wavelets_1 = wavelets_1[:,:,:,:]\n",
    "# labels_1 = labels[labels == 1]\n",
    "\n",
    "# # take train_part of each\n",
    "# wavelets_0_train = wavelets_0[:int(wavelets_0.shape[0] * train_part)]\n",
    "# labels_0_train = labels_0[:int(labels_0.shape[0] * train_part)]\n",
    "# wavelets_1_train = wavelets_1[:int(wavelets_1.shape[0] * train_part)]\n",
    "# labels_1_train = labels_1[:int(labels_1.shape[0] * train_part)]\n",
    "# # take test_part of each\n",
    "# wavelets_0_test = wavelets_0[int(wavelets_0.shape[0] * train_part):]\n",
    "# labels_0_test = labels_0[int(labels_0.shape[0] * train_part):]\n",
    "# wavelets_1_test = wavelets_1[int(wavelets_1.shape[0] * train_part):]\n",
    "# labels_1_test = labels_1[int(labels_1.shape[0] * train_part):]\n",
    "# # concatenate wavelets_0_train and wavelets_1_train\n",
    "# wavelets_train = np.concatenate((wavelets_0_train, wavelets_1_train), axis=0)\n",
    "# labels_train = np.concatenate((labels_0_train, labels_1_train), axis=0)\n",
    "# # concatenate wavelets_0_test and wavelets_1_test\n",
    "# wavelets_test = np.concatenate((wavelets_0_test, wavelets_1_test), axis=0)\n",
    "# labels_test = np.concatenate((labels_0_test, labels_1_test), axis=0)"
   ]
  },
  {
   "cell_type": "code",
   "execution_count": 113,
   "metadata": {},
   "outputs": [],
   "source": [
    "labels = 1-labels\n",
    "EEG = EEGImagesDataset(label=labels, image=wavelets)\n",
    "\n",
    "lengths = [int(len(EEG)*train_part), int(len(EEG)*test_part)]\n",
    "Train, Test = random_split(EEG, lengths)\n",
    "\n",
    "Trainloader = DataLoader(Train,batch_size=batch_size)\n",
    "Testloader = DataLoader(Test, batch_size=batch_size)"
   ]
  },
  {
   "cell_type": "code",
   "execution_count": 114,
   "metadata": {},
   "outputs": [],
   "source": [
    "# res = TrainTest_Model(BasicCNN, Trainloader, Testloader, n_epoch=15, learning_rate=0.001, print_epoch=-1, opti='Adam')"
   ]
  },
  {
   "cell_type": "code",
   "execution_count": 115,
   "metadata": {},
   "outputs": [
    {
     "name": "stdout",
     "output_type": "stream",
     "text": [
      "(39.71507812948788, 0.20925925925925926, [tensor([1, 1, 1, 1, 1, 1, 0, 1, 1, 1, 1, 1, 1, 1, 1, 0, 1, 1, 0, 1, 1, 1, 1, 1,\n",
      "        1, 1, 1, 1, 1, 1, 1, 1]), tensor([0, 1, 1, 1, 1, 1, 1, 1, 0, 0, 1, 1, 1, 1, 1, 0, 1, 1, 1, 1, 1, 0, 1, 1,\n",
      "        0, 1, 0, 0, 1, 1, 1, 1]), tensor([1, 0, 1, 1, 1, 1, 1, 1, 1, 1, 1, 1, 1, 1, 1, 1, 1, 0, 1, 1, 1, 0, 1, 1,\n",
      "        0, 1, 1, 1, 1, 1, 1, 0]), tensor([1, 0, 0, 1, 0, 1, 1, 1, 1, 1, 1, 0, 1, 1, 0, 1, 1, 1, 1, 0, 1, 1, 1, 0,\n",
      "        1, 1, 0, 0, 0, 1, 0, 1]), tensor([1, 0, 1, 1, 1, 1, 0, 1, 1, 1, 1, 1, 1, 1, 1, 1, 1, 0, 0, 1, 0, 1, 1, 0,\n",
      "        1, 1, 1, 0, 1, 1, 1, 1]), tensor([1, 0, 0, 1, 1, 1, 1, 0, 1, 1, 0, 1, 1, 1, 1, 1, 1, 0, 1, 1, 1, 1, 1, 1,\n",
      "        1, 1, 1, 1, 1, 0, 1, 0]), tensor([1, 1, 1, 0, 1, 0, 0, 1, 1, 0, 1, 1, 1, 1, 1, 0, 1, 1, 1, 1, 1, 1, 1, 1,\n",
      "        1, 0, 0, 0, 1, 0, 1, 1]), tensor([1, 1, 1, 1, 1, 1, 0, 1, 1, 1, 1, 1, 1, 1, 1, 0, 1, 1, 1, 1, 1, 0, 1, 1,\n",
      "        1, 1, 1, 1, 0, 1, 1, 1]), tensor([0, 1, 1, 1, 1, 0, 0, 1, 1, 1, 1, 1, 0, 1, 1, 1, 1, 0, 1, 1, 1, 1, 1, 1,\n",
      "        0, 1, 1, 1, 0, 1, 1, 1]), tensor([1, 1, 1, 1, 1, 1, 0, 1, 1, 1, 0, 1, 0, 0, 1, 0, 0, 1, 1, 1, 1, 0, 1, 0,\n",
      "        0, 1, 1, 1, 1, 1, 1, 0]), tensor([1, 1, 1, 1, 1, 1, 1, 1, 1, 1, 1, 1, 1, 0, 1, 1, 1, 1, 1, 1, 1, 1, 1, 1,\n",
      "        1, 1, 1, 1, 1, 1, 1, 1]), tensor([0, 1, 0, 1, 1, 1, 1, 0, 1, 1, 1, 1, 1, 1, 1, 1, 1, 1, 1, 1, 1, 0, 1, 0,\n",
      "        1, 1, 0, 1, 1, 1, 1, 1]), tensor([1, 1, 0, 1, 1, 1, 1, 1, 1, 1, 1, 1, 1, 1, 1, 1, 0, 1, 1, 0, 0, 1, 1, 1,\n",
      "        0, 1, 1, 1, 1, 1, 0, 1]), tensor([1, 1, 1, 1, 1, 1, 1, 1, 1, 1, 1, 1, 1, 1, 1, 1, 1, 1, 1, 0, 1, 1, 0, 1,\n",
      "        0, 1, 1, 1, 1, 1, 1, 1]), tensor([1, 1, 1, 1, 1, 1, 1, 1, 0, 1, 1, 1, 0, 0, 1, 1, 1, 1, 0, 1, 1, 0, 1, 1,\n",
      "        1, 1, 1, 1, 1, 1, 1, 1]), tensor([1, 1, 1, 0, 1, 1, 1, 1, 1, 1, 0, 1, 1, 0, 1, 1, 1, 1, 0, 1, 1, 1, 1, 1,\n",
      "        1, 1, 1, 1, 1, 1, 1, 1]), tensor([1, 1, 1, 1, 1, 1, 1, 1, 0, 1, 1, 1, 0, 1, 0, 1, 1, 0, 1, 1, 1, 0, 1, 0,\n",
      "        0, 1, 1, 1])], [tensor([1, 0, 0, 0, 1, 0, 0, 0, 0, 0, 0, 0, 0, 0, 0, 0, 0, 0, 0, 0, 0, 1, 0, 0,\n",
      "        0, 0, 0, 0, 0, 0, 0, 0]), tensor([0, 0, 0, 0, 0, 0, 0, 0, 0, 0, 0, 0, 0, 0, 0, 0, 0, 0, 0, 0, 0, 0, 0, 0,\n",
      "        0, 0, 0, 0, 0, 0, 0, 0]), tensor([0, 0, 0, 0, 0, 0, 0, 0, 0, 0, 0, 0, 0, 0, 0, 0, 0, 0, 0, 0, 0, 0, 0, 0,\n",
      "        0, 1, 0, 0, 0, 0, 0, 0]), tensor([0, 0, 0, 0, 0, 0, 0, 1, 0, 0, 0, 0, 0, 0, 0, 0, 0, 0, 0, 0, 0, 0, 0, 0,\n",
      "        0, 0, 0, 0, 0, 0, 0, 0]), tensor([0, 0, 0, 0, 0, 0, 0, 0, 0, 0, 0, 0, 0, 0, 0, 0, 0, 0, 0, 0, 0, 0, 0, 0,\n",
      "        0, 0, 0, 1, 0, 0, 0, 0]), tensor([0, 0, 0, 0, 0, 0, 0, 0, 0, 0, 0, 0, 0, 0, 0, 0, 0, 0, 0, 0, 0, 0, 0, 0,\n",
      "        0, 0, 0, 0, 0, 0, 0, 0]), tensor([0, 0, 0, 0, 0, 0, 0, 0, 0, 0, 0, 0, 0, 0, 0, 0, 0, 0, 0, 0, 0, 0, 0, 0,\n",
      "        0, 0, 0, 0, 0, 0, 0, 0]), tensor([0, 0, 0, 0, 0, 0, 0, 0, 0, 0, 0, 0, 0, 0, 0, 0, 0, 0, 0, 0, 0, 0, 0, 0,\n",
      "        0, 0, 0, 0, 0, 0, 0, 0]), tensor([0, 0, 0, 1, 0, 0, 0, 0, 0, 0, 0, 0, 0, 0, 0, 0, 0, 0, 0, 0, 0, 0, 0, 0,\n",
      "        0, 0, 0, 0, 0, 0, 0, 0]), tensor([0, 0, 0, 0, 0, 0, 0, 0, 0, 0, 0, 0, 0, 0, 0, 0, 0, 0, 0, 0, 0, 0, 0, 0,\n",
      "        0, 0, 0, 0, 0, 0, 0, 0]), tensor([0, 0, 0, 0, 0, 0, 0, 0, 0, 0, 0, 0, 0, 0, 0, 0, 0, 0, 0, 0, 0, 0, 0, 0,\n",
      "        0, 0, 0, 0, 0, 0, 0, 0]), tensor([0, 0, 0, 0, 0, 0, 0, 0, 0, 0, 0, 0, 0, 0, 0, 0, 0, 0, 0, 1, 0, 0, 0, 0,\n",
      "        0, 0, 0, 0, 0, 0, 0, 0]), tensor([0, 0, 0, 0, 0, 0, 0, 0, 0, 0, 0, 0, 1, 0, 0, 0, 0, 0, 0, 0, 0, 0, 0, 0,\n",
      "        0, 0, 0, 0, 1, 0, 0, 0]), tensor([0, 0, 0, 0, 0, 0, 0, 0, 0, 0, 0, 0, 0, 0, 0, 0, 0, 0, 0, 0, 0, 0, 0, 0,\n",
      "        0, 0, 0, 0, 0, 0, 0, 0]), tensor([0, 0, 0, 0, 0, 0, 0, 0, 0, 0, 0, 0, 0, 0, 0, 0, 0, 0, 0, 0, 0, 0, 0, 0,\n",
      "        0, 0, 0, 0, 0, 0, 0, 0]), tensor([0, 0, 0, 0, 0, 0, 0, 0, 0, 0, 0, 0, 0, 0, 0, 0, 0, 0, 0, 0, 0, 0, 0, 0,\n",
      "        0, 0, 0, 0, 0, 0, 0, 0]), tensor([0, 1, 0, 0, 0, 0, 0, 0, 0, 0, 0, 0, 0, 1, 0, 0, 0, 0, 0, 0, 0, 0, 0, 0,\n",
      "        0, 0, 0, 0])])\n"
     ]
    }
   ],
   "source": [
    "net = BasicCNN()\n",
    "net.load_state_dict(torch.load('kamyar_model_weights.pth', map_location=torch.device('cpu')))\n",
    "criterion = nn.CrossEntropyLoss()\n",
    "\n",
    "res, embeddings = Test_Model(net, Testloader, criterion, True)\n",
    "print (res)"
   ]
  },
  {
   "cell_type": "code",
   "execution_count": 70,
   "metadata": {},
   "outputs": [
    {
     "name": "stdout",
     "output_type": "stream",
     "text": [
      "[array([[ 3.7522006 ,  3.546122  , -3.248651  , ...,  3.4633439 ,\n",
      "          3.4993126 , -3.624056  ],\n",
      "        [ 3.0211027 ,  2.8233914 , -2.6111176 , ...,  2.7357895 ,\n",
      "          2.8053408 , -2.91431   ],\n",
      "        [ 2.1892145 ,  2.6486785 , -2.368852  , ...,  2.1548307 ,\n",
      "          1.7934935 , -1.2747927 ],\n",
      "        ...,\n",
      "        [ 2.8807    ,  2.755745  , -2.5296214 , ...,  2.6666436 ,\n",
      "          2.9739754 , -2.7173297 ],\n",
      "        [ 1.0795515 ,  2.3848166 , -2.5015984 , ...,  1.9586843 ,\n",
      "         -0.45966703,  1.3758335 ],\n",
      "        [ 4.460752  ,  4.030407  , -3.7668378 , ...,  4.044812  ,\n",
      "          4.0281973 , -4.2467065 ]], dtype=float32)\n",
      " array([[ 3.7076406,  3.5315175, -3.1147258, ...,  3.4224887,  3.498782 ,\n",
      "         -3.6050467],\n",
      "        [ 2.8827832,  2.6474423, -2.3594325, ...,  2.5671895,  2.6779501,\n",
      "         -2.7695165],\n",
      "        [ 3.4432776,  3.214491 , -2.9587073, ...,  3.149809 ,  3.1965215,\n",
      "         -3.3328483],\n",
      "        ...,\n",
      "        [ 1.5739388,  1.3832619, -1.1373929, ...,  1.275736 ,  1.4367003,\n",
      "         -1.4236298],\n",
      "        [ 1.7688334,  1.6831273, -1.3985144, ...,  1.4380012,  1.7283868,\n",
      "         -1.5106896],\n",
      "        [-8.504784 , -5.4664574,  6.6193876, ..., -7.3578577, -9.267672 ,\n",
      "         10.133536 ]], dtype=float32)\n",
      " array([[-2.9216337 , -2.3433075 ,  3.1169646 , ..., -3.3523011 ,\n",
      "         -3.720168  ,  4.0578156 ],\n",
      "        [ 1.1278099 ,  1.6452721 , -0.7355483 , ...,  0.64607716,\n",
      "          0.7666051 ,  0.54824907],\n",
      "        [ 2.523983  ,  2.3502219 , -2.0236647 , ...,  2.2622294 ,\n",
      "          2.2423394 , -2.300418  ],\n",
      "        ...,\n",
      "        [ 4.2820086 ,  4.0579042 , -3.6590493 , ...,  3.9188783 ,\n",
      "          4.0293283 , -4.149622  ],\n",
      "        [ 0.75928867,  0.65152866, -0.4114384 , ...,  0.5175624 ,\n",
      "          0.30426463, -0.35703427],\n",
      "        [-1.7456675 ,  0.79936534, -0.61111355, ..., -0.54319614,\n",
      "         -4.1819177 ,  6.2193737 ]], dtype=float32)\n",
      " array([[ 3.3486168,  3.1454496, -2.9144733, ...,  3.1039848,  3.092171 ,\n",
      "         -3.2189403],\n",
      "        [ 2.9706104,  2.7701259, -2.4672425, ...,  2.735396 ,  2.7780414,\n",
      "         -2.8883662],\n",
      "        [ 2.1792164,  2.012291 , -1.8464131, ...,  2.1188867,  1.931938 ,\n",
      "         -2.1032348],\n",
      "        ...,\n",
      "        [ 2.1528468,  2.0392783, -1.875436 , ...,  1.9811258,  2.0291097,\n",
      "         -2.0879774],\n",
      "        [ 3.7271936,  3.3657904, -3.1545842, ...,  3.3724005,  3.3776903,\n",
      "         -3.5257063],\n",
      "        [ 2.0702503,  1.9189537, -1.7768164, ...,  1.8599908,  1.9216614,\n",
      "         -1.9982069]], dtype=float32)\n",
      " array([[ 3.0514393e+00,  2.8838048e+00, -2.6981173e+00, ...,\n",
      "          2.9081149e+00,  2.8561139e+00, -3.0310941e+00],\n",
      "        [ 4.2192655e+00,  3.8428779e+00, -3.7272198e+00, ...,\n",
      "          3.8755500e+00,  3.8263392e+00, -4.0160346e+00],\n",
      "        [ 3.0799501e+00,  2.8055365e+00, -2.6104617e+00, ...,\n",
      "          2.7618921e+00,  2.8254051e+00, -2.9338434e+00],\n",
      "        ...,\n",
      "        [-1.0519110e+00,  5.2302438e-01, -5.9006602e-02, ...,\n",
      "          1.5702248e-03, -1.1466807e+00,  1.8867801e+00],\n",
      "        [-3.4519243e+00, -3.9302486e-01,  2.0250187e+00, ...,\n",
      "         -2.4544563e+00, -3.1560752e+00,  5.1532645e+00],\n",
      "        [ 4.1624880e+00,  3.7847264e+00, -3.6227834e+00, ...,\n",
      "          3.7833240e+00,  3.7947221e+00, -3.9680440e+00]], dtype=float32)\n",
      " array([[ -1.0207963 ,   1.105822  ,  -0.5650996 , ...,  -0.35402822,\n",
      "          -2.1144686 ,   3.8783758 ],\n",
      "        [  2.2617588 ,   2.053846  ,  -2.0319114 , ...,   2.0303707 ,\n",
      "           2.0430276 ,  -2.1332846 ],\n",
      "        [  4.2424707 ,   3.876668  ,  -3.6063447 , ...,   3.86541   ,\n",
      "           3.856505  ,  -4.061212  ],\n",
      "        ...,\n",
      "        [ -8.752335  ,  -5.811358  ,   6.4868217 , ...,  -7.5940175 ,\n",
      "         -10.450682  ,  11.229788  ],\n",
      "        [  3.351293  ,   5.8131757 ,  -4.0046287 , ...,   3.279354  ,\n",
      "           2.5305755 ,   0.01856083],\n",
      "        [  2.671355  ,   2.5245929 ,  -2.0800178 , ...,   2.4286382 ,\n",
      "           2.5591276 ,  -2.6238832 ]], dtype=float32)\n",
      " array([[ 0.62539506,  7.807656  , -4.7353606 , ...,  2.8191113 ,\n",
      "         -1.8928093 ,  6.9062786 ],\n",
      "        [ 5.220753  ,  5.5360255 , -5.304638  , ...,  5.859987  ,\n",
      "          5.346282  , -5.339471  ],\n",
      "        [ 1.4748135 ,  1.5822048 , -1.2363651 , ...,  1.1860752 ,\n",
      "          1.2517291 , -1.0233476 ],\n",
      "        ...,\n",
      "        [ 0.32455164,  0.6004303 , -0.5426477 , ...,  0.47292653,\n",
      "         -0.580911  ,  0.6173607 ],\n",
      "        [ 1.9836882 ,  1.8288767 , -1.7192591 , ...,  1.7787873 ,\n",
      "          1.8424373 , -1.9217846 ],\n",
      "        [ 2.602695  ,  2.4562786 , -2.2491505 , ...,  2.3960354 ,\n",
      "          2.4527512 , -2.53588   ]], dtype=float32)\n",
      " array([[-1.510103  ,  4.115857  , -3.3057253 , ...,  0.81013966,\n",
      "         -5.8826118 ,  9.650429  ],\n",
      "        [ 4.0781407 ,  4.078093  , -3.9378037 , ...,  4.2310653 ,\n",
      "          4.007381  , -4.278908  ],\n",
      "        [ 3.0487957 ,  3.755108  , -3.415427  , ...,  3.1612403 ,\n",
      "          2.5463243 , -1.7662274 ],\n",
      "        ...,\n",
      "        [ 1.0425038 ,  0.8903033 , -0.75025076, ...,  0.75332415,\n",
      "          0.94648165, -0.827459  ],\n",
      "        [ 2.9478037 ,  2.7197313 , -2.4010558 , ...,  2.6843061 ,\n",
      "          2.7366982 , -2.8050113 ],\n",
      "        [-0.7363736 ,  0.21241081, -0.143621  , ..., -0.29740828,\n",
      "         -1.4349345 ,  2.1659484 ]], dtype=float32)\n",
      " array([[ 3.8131778,  3.525825 , -3.1303635, ...,  3.4520793,  3.5367658,\n",
      "         -3.6601138],\n",
      "        [ 3.8108664,  3.5247247, -3.250703 , ...,  3.4644723,  3.5147   ,\n",
      "         -3.683814 ],\n",
      "        [ 2.5496755,  2.9736445, -2.891891 , ...,  2.6183167,  1.8246025,\n",
      "         -1.404427 ],\n",
      "        ...,\n",
      "        [ 4.2009335,  3.841525 , -3.6856368, ...,  3.8912349,  3.7963774,\n",
      "         -3.9937553],\n",
      "        [ 3.02273  ,  2.8861365, -2.6696332, ...,  2.8373976,  2.872754 ,\n",
      "         -2.977076 ],\n",
      "        [ 2.9382074,  2.719971 , -2.5032854, ...,  2.6981478,  2.69664  ,\n",
      "         -2.8330793]], dtype=float32)\n",
      " array([[ 4.2214584 ,  4.0809045 , -3.4678683 , ...,  3.876882  ,\n",
      "          4.0169396 , -4.116689  ],\n",
      "        [ 2.6409132 ,  2.422271  , -2.130964  , ...,  2.3477197 ,\n",
      "          2.445053  , -2.5389824 ],\n",
      "        [ 0.4127211 ,  0.606759  , -0.5913245 , ...,  0.6124312 ,\n",
      "          0.1620751 , -0.24545956],\n",
      "        ...,\n",
      "        [ 2.5633214 ,  2.313345  , -2.174504  , ...,  2.3666558 ,\n",
      "          2.3126962 , -2.3855367 ],\n",
      "        [ 3.4974473 ,  3.9734662 , -3.6689339 , ...,  3.6112437 ,\n",
      "          3.684651  , -2.9358146 ],\n",
      "        [ 2.6704865 ,  3.651305  , -2.7627528 , ...,  2.7451987 ,\n",
      "          3.0439713 , -1.8231621 ]], dtype=float32)\n",
      " array([[ 3.1642542 ,  3.0957177 , -2.5323517 , ...,  2.881198  ,\n",
      "          3.0477536 , -3.061934  ],\n",
      "        [ 4.366831  ,  4.4926047 , -4.053399  , ...,  4.405477  ,\n",
      "          4.5421834 , -4.216736  ],\n",
      "        [ 2.3452678 ,  2.2178824 , -1.9253345 , ...,  2.1359324 ,\n",
      "          2.2417939 , -2.278529  ],\n",
      "        ...,\n",
      "        [ 1.0047169 ,  1.061732  , -0.7571841 , ...,  0.6905489 ,\n",
      "          0.8098297 , -0.55791336],\n",
      "        [ 2.2012184 ,  3.722301  , -3.6768196 , ...,  2.8516555 ,\n",
      "          0.6151665 ,  1.1451087 ],\n",
      "        [ 3.9704795 ,  3.6640353 , -3.3592415 , ...,  3.6918647 ,\n",
      "          3.6336532 , -3.7985039 ]], dtype=float32)\n",
      " array([[ 1.7994826 ,  2.7849624 , -2.5912023 , ...,  2.1197505 ,\n",
      "          0.85419494,  0.04454091],\n",
      "        [ 4.54154   ,  4.2972507 , -3.9047146 , ...,  4.216727  ,\n",
      "          4.2472343 , -4.4168634 ],\n",
      "        [ 2.653927  ,  2.5325704 , -2.3354576 , ...,  2.4814858 ,\n",
      "          2.5371528 , -2.6320753 ],\n",
      "        ...,\n",
      "        [ 2.0327263 ,  1.8812842 , -1.6257032 , ...,  1.8620586 ,\n",
      "          1.9037433 , -1.9913678 ],\n",
      "        [ 0.8187391 ,  0.8396438 , -0.6251538 , ...,  0.6979267 ,\n",
      "          0.0403962 ,  0.07802169],\n",
      "        [ 3.6557996 ,  3.457282  , -3.2216544 , ...,  3.371272  ,\n",
      "          3.420659  , -3.5260227 ]], dtype=float32)\n",
      " array([[-0.5199021 ,  1.1506346 , -0.84874153, ...,  0.06856552,\n",
      "         -1.6975696 ,  3.2103634 ],\n",
      "        [ 2.4367616 ,  2.280657  , -1.8556272 , ...,  2.2312808 ,\n",
      "          2.1870723 , -2.2676404 ],\n",
      "        [ 3.7311883 ,  3.533373  , -3.0297008 , ...,  3.4989066 ,\n",
      "          3.5217192 , -3.6599574 ],\n",
      "        ...,\n",
      "        [-3.114864  , -1.5961196 ,  2.0152125 , ..., -2.5113144 ,\n",
      "         -3.6124392 ,  4.7046604 ],\n",
      "        [ 2.2727523 ,  2.5269442 , -1.9754273 , ...,  2.0439517 ,\n",
      "          2.4200103 , -1.8236843 ],\n",
      "        [ 4.9148254 ,  4.5939946 , -4.1482415 , ...,  4.4612665 ,\n",
      "          4.5908775 , -4.753906  ]], dtype=float32)\n",
      " array([[ 3.551856  ,  3.3167858 , -3.0958116 , ...,  3.3388648 ,\n",
      "          3.2689776 , -3.418599  ],\n",
      "        [ 3.3733027 ,  4.1460295 , -3.4168677 , ...,  3.7514482 ,\n",
      "          4.2229037 , -3.1583943 ],\n",
      "        [ 3.7077558 ,  3.5019383 , -3.212127  , ...,  3.4089532 ,\n",
      "          3.4899046 , -3.6227496 ],\n",
      "        ...,\n",
      "        [ 3.7749255 ,  3.270906  , -3.386706  , ...,  3.4917068 ,\n",
      "          3.2670333 , -3.4422975 ],\n",
      "        [ 3.147722  ,  2.8200047 , -2.715464  , ...,  2.9768755 ,\n",
      "          2.97717   , -2.9334614 ],\n",
      "        [ 0.07750691,  0.08003151,  0.07648107, ..., -0.06637162,\n",
      "         -0.25347123,  0.24300548]], dtype=float32)\n",
      " array([[-3.0596972 , -1.2344735 ,  1.9624002 , ..., -2.4566479 ,\n",
      "         -3.474462  ,  4.596796  ],\n",
      "        [ 2.143172  ,  4.173223  , -3.9681416 , ...,  3.2819784 ,\n",
      "          0.52456266,  1.111839  ],\n",
      "        [ 3.9909406 ,  3.793487  , -3.3604896 , ...,  3.6474655 ,\n",
      "          3.772011  , -3.8675613 ],\n",
      "        ...,\n",
      "        [ 5.6920433 ,  5.569798  , -5.5378847 , ...,  5.8875175 ,\n",
      "          5.710649  , -5.8773584 ],\n",
      "        [ 3.0501714 ,  2.8343494 , -2.7055733 , ...,  2.8339887 ,\n",
      "          2.7906837 , -2.910167  ],\n",
      "        [-5.3320484 , -3.596168  ,  4.529702  , ..., -5.356131  ,\n",
      "         -6.618692  ,  7.25373   ]], dtype=float32)\n",
      " array([[ 2.9368057 ,  2.7113597 , -2.51911   , ...,  2.6374466 ,\n",
      "          2.7208416 , -2.838512  ],\n",
      "        [-6.2612286 , -2.8126433 ,  4.0399632 , ..., -5.313043  ,\n",
      "         -8.159809  ,  9.736875  ],\n",
      "        [-1.9789383 , -1.7368188 ,  1.8722384 , ..., -2.103267  ,\n",
      "         -2.7402437 ,  2.7437055 ],\n",
      "        ...,\n",
      "        [ 4.7128625 ,  4.5061145 , -3.8907099 , ...,  4.318955  ,\n",
      "          4.486592  , -4.59181   ],\n",
      "        [-3.2269945 , -1.5945091 ,  2.5273874 , ..., -3.4332092 ,\n",
      "         -4.704196  ,  5.9955807 ],\n",
      "        [ 0.24734142,  1.162368  , -0.8957763 , ...,  0.870372  ,\n",
      "          0.61707926,  0.06114122]], dtype=float32)\n",
      " array([[ 3.95235360e-01,  3.79850596e-01,  7.66140521e-02, ...,\n",
      "         -9.34109092e-04,  5.81772625e-03,  2.53180712e-02],\n",
      "        [ 3.75007439e+00,  3.60670137e+00, -3.37473249e+00, ...,\n",
      "          3.68156815e+00,  3.53180313e+00, -3.75454760e+00],\n",
      "        [ 1.13431215e-01,  8.43368340e+00, -7.11622143e+00, ...,\n",
      "          3.80434895e+00, -6.13228703e+00,  1.21349144e+01],\n",
      "        ...,\n",
      "        [ 8.44708741e-01,  1.14400053e+00, -9.70117867e-01, ...,\n",
      "          5.75353265e-01,  2.43809849e-01,  2.50668406e-01],\n",
      "        [ 3.08872247e+00,  2.92244482e+00, -2.59120774e+00, ...,\n",
      "          2.86268353e+00,  2.89316225e+00, -2.97866011e+00],\n",
      "        [ 9.90455389e-01,  9.22821164e-01, -5.82681894e-01, ...,\n",
      "          6.83234215e-01,  8.96770895e-01, -5.32403588e-01]], dtype=float32)]\n",
      "(17,)\n"
     ]
    }
   ],
   "source": [
    "embeddings = np.array([n.detach().numpy() for n in embeddings])\n",
    "print (embeddings)\n",
    "print (embeddings.shape)"
   ]
  },
  {
   "cell_type": "code",
   "execution_count": 37,
   "metadata": {},
   "outputs": [
    {
     "data": {
      "text/plain": [
       "(28, 512)"
      ]
     },
     "execution_count": 37,
     "metadata": {},
     "output_type": "execute_result"
    }
   ],
   "source": [
    "embeddings[-1].shape"
   ]
  },
  {
   "cell_type": "code",
   "execution_count": 62,
   "metadata": {},
   "outputs": [
    {
     "data": {
      "text/plain": [
       "array([1, 1, 1, 1, 1, 1, 0, 1, 1, 0, 0, 1, 1, 1, 1, 0, 1, 1, 1, 1, 1, 1,\n",
       "       1, 1, 1, 1, 1, 1, 0, 1, 1, 0, 1, 1, 0, 1, 1, 1, 1, 1, 0, 1, 1, 1,\n",
       "       1, 1, 1, 1, 1, 1, 1, 1, 1, 0, 0, 1, 1, 0, 1, 0, 0, 1, 1, 1, 1, 0,\n",
       "       1, 1, 1, 1, 1, 1, 1, 0, 1, 0, 1, 1, 1, 0, 1, 0, 1, 1, 1, 1, 1, 1,\n",
       "       1, 0, 1, 1, 1, 1, 1, 1, 1, 1, 1, 0, 1, 0, 1, 0, 1, 1, 1, 1, 1, 1,\n",
       "       1, 1, 1, 1, 1, 1, 1, 1, 1, 1, 1, 1, 1, 1, 1, 1, 1, 0, 1, 1, 0, 1,\n",
       "       1, 1, 1, 1, 1, 1, 0, 1, 1, 1, 1, 1, 1, 1, 1, 0, 1, 1, 0, 1, 1, 1,\n",
       "       1, 1, 0, 1, 1, 1, 1, 0, 0, 1, 1, 0, 1, 1, 1, 1, 1, 1, 1, 1, 0, 1,\n",
       "       1, 0, 1, 0, 1, 1, 1, 1, 1, 1, 1, 1, 0, 1, 1, 1, 1, 0, 1, 1, 1, 1,\n",
       "       1, 1, 1, 1, 1, 1, 1, 1, 1, 1, 1, 0, 1, 1, 1, 0, 0, 1, 1, 1, 0, 1,\n",
       "       0, 1, 1, 0, 1, 1, 1, 1, 1, 1, 0, 1, 1, 0, 1, 1, 1, 1, 0, 1, 1, 1,\n",
       "       1, 1, 0, 1, 0, 1, 0, 0, 1, 1, 1, 1, 1, 1, 1, 1, 1, 1, 1, 0, 1, 1,\n",
       "       1, 1, 1, 1, 1, 0, 1, 1, 1, 0, 1, 1, 1, 1, 0, 1, 0, 1, 0, 0, 1, 0,\n",
       "       1, 1, 1, 1, 1, 1, 1, 1, 1, 1, 1, 1, 1, 0, 1, 1, 1, 1, 1, 1, 1, 1,\n",
       "       1, 1, 1, 1, 1, 0, 1, 1, 1, 0, 1, 1, 1, 1, 1, 1, 1, 1, 1, 1, 1, 0,\n",
       "       1, 0, 0, 1, 1, 1, 1, 1, 0, 1, 1, 1, 1, 1, 1, 1, 1, 1, 1, 1, 1, 1,\n",
       "       1, 1, 1, 1, 1, 1, 1, 1, 1, 1, 1, 1, 1, 1, 1, 1, 1, 1, 0, 1, 1, 1,\n",
       "       1, 1, 1, 1, 1, 1, 1, 1, 1, 1, 1, 1, 1, 0, 1, 0, 1, 1, 1, 1, 1, 1,\n",
       "       1, 1, 0, 0, 1, 1, 0, 1, 1, 1, 1, 1, 1, 1, 1, 1, 0, 1, 1, 1, 1, 1,\n",
       "       1, 0, 1, 0, 1, 1, 1, 1, 1, 1, 1, 1, 1, 1, 1, 0, 1, 1, 1, 1, 0, 1,\n",
       "       1, 0, 1, 1, 1, 1, 0, 1, 1, 1, 1, 1, 1, 1, 0, 1, 1, 1, 1, 0, 1, 1,\n",
       "       1, 0, 1, 1, 0, 1, 1, 1, 0, 1, 1, 1, 1, 0, 1, 1, 0, 1, 1, 0, 1, 1,\n",
       "       0, 1, 0, 1, 1, 1, 1, 1, 1, 1, 1, 1, 0, 0, 1, 1, 0, 1, 0, 0, 0, 1,\n",
       "       1, 1, 1, 1, 1, 1, 0, 1, 1, 1, 1, 0, 1, 1, 0, 0, 1, 1, 1, 1, 1, 1,\n",
       "       1, 1, 1, 1, 1, 0, 1, 1, 0, 1, 1, 0], dtype=int64)"
      ]
     },
     "execution_count": 62,
     "metadata": {},
     "output_type": "execute_result"
    }
   ],
   "source": [
    "np.concatenate(res[2])"
   ]
  },
  {
   "cell_type": "code",
   "execution_count": null,
   "metadata": {},
   "outputs": [],
   "source": []
  },
  {
   "cell_type": "code",
   "execution_count": 71,
   "metadata": {},
   "outputs": [
    {
     "name": "stdout",
     "output_type": "stream",
     "text": [
      "0.4816865513430614\n",
      "[[ 95   6]\n",
      " [429  10]]\n"
     ]
    }
   ],
   "source": [
    "# balanced accuracy of true: x and pred: y\n",
    "from sklearn.metrics import balanced_accuracy_score, confusion_matrix\n",
    "def balanced_accuracy(x, y):\n",
    "    return (balanced_accuracy_score(x, y))\n",
    "print(balanced_accuracy(np.concatenate(res[2]), np.concatenate(res[3])))\n",
    "print(confusion_matrix(np.concatenate(res[2]), np.concatenate(res[3])))"
   ]
  },
  {
   "cell_type": "code",
   "execution_count": 116,
   "metadata": {},
   "outputs": [
    {
     "data": {
      "text/plain": [
       "BasicCNN(\n",
       "  (conv1): Conv2d(3, 32, kernel_size=(3, 3), stride=(1, 1), padding=(1, 1))\n",
       "  (conv2): Conv2d(32, 32, kernel_size=(3, 3), stride=(1, 1), padding=(1, 1))\n",
       "  (conv3): Conv2d(32, 32, kernel_size=(3, 3), stride=(1, 1), padding=(1, 1))\n",
       "  (conv4): Conv2d(32, 32, kernel_size=(3, 3), stride=(1, 1), padding=(1, 1))\n",
       "  (pool1): MaxPool2d(kernel_size=(2, 2), stride=(2, 2), padding=0, dilation=1, ceil_mode=False)\n",
       "  (conv5): Conv2d(32, 64, kernel_size=(3, 3), stride=(1, 1), padding=(1, 1))\n",
       "  (conv6): Conv2d(64, 64, kernel_size=(3, 3), stride=(1, 1), padding=(1, 1))\n",
       "  (conv7): Conv2d(64, 128, kernel_size=(3, 3), stride=(1, 1), padding=(1, 1))\n",
       "  (pool): MaxPool2d(kernel_size=(1, 1), stride=(1, 1), padding=0, dilation=1, ceil_mode=False)\n",
       "  (drop): Dropout(p=0.5, inplace=False)\n",
       "  (fc1): Linear(in_features=2048, out_features=512, bias=True)\n",
       "  (fc2): Linear(in_features=512, out_features=2, bias=True)\n",
       "  (max): LogSoftmax(dim=None)\n",
       ")"
      ]
     },
     "execution_count": 116,
     "metadata": {},
     "output_type": "execute_result"
    }
   ],
   "source": [
    "net = BasicCNN()\n",
    "net.load_state_dict(torch.load('kamyar_model_weights.pth', map_location=torch.device('cpu')))\n",
    "criterion = nn.CrossEntropyLoss()\n",
    "net.eval()"
   ]
  },
  {
   "cell_type": "code",
   "execution_count": 117,
   "metadata": {},
   "outputs": [
    {
     "name": "stdout",
     "output_type": "stream",
     "text": [
      "0\n",
      "100\n",
      "200\n",
      "300\n",
      "400\n",
      "500\n",
      "600\n",
      "700\n",
      "800\n",
      "900\n",
      "1000\n",
      "1100\n",
      "1200\n",
      "1300\n",
      "1400\n",
      "1500\n",
      "1600\n",
      "1700\n",
      "1800\n",
      "1900\n",
      "2000\n",
      "2100\n",
      "2200\n",
      "2300\n",
      "2400\n",
      "2500\n",
      "2600\n"
     ]
    }
   ],
   "source": [
    "Embeddings = np.zeros((wavelets.shape[0], 512))\n",
    "for i in range(wavelets.shape[0]):\n",
    "    if i % 100 == 0:\n",
    "        print (i)\n",
    "    Embeddings[i, :] = net(torch.tensor(wavelets[i:i+1,:,:,:]).to(torch.float32))[1].detach().numpy()"
   ]
  },
  {
   "cell_type": "code",
   "execution_count": 95,
   "metadata": {},
   "outputs": [],
   "source": [
    "# Save the embeddings in .mat file\n",
    "sio.savemat('kamyar_embeddings_test.mat', {'Images':images,'embeddings': Embeddings, 'labels': labels})"
   ]
  },
  {
   "cell_type": "markdown",
   "metadata": {},
   "source": [
    "## Maxpool CNN\n",
    "Build the Max-pooling model performing a maxpool over the 7 parallel convnets."
   ]
  },
  {
   "cell_type": "code",
   "execution_count": 24,
   "metadata": {},
   "outputs": [],
   "source": [
    "train_part = 0.8\n",
    "test_part = 0.2\n",
    "\n",
    "batch_size = 32"
   ]
  },
  {
   "cell_type": "code",
   "execution_count": 25,
   "metadata": {},
   "outputs": [],
   "source": [
    "EEG = EEGImagesDataset(label=labels, image=wavelets)\n",
    "\n",
    "lengths = [int(len(EEG)*train_part), int(len(EEG)*test_part)]\n",
    "Train, Test = random_split(EEG, lengths)\n",
    "\n",
    "Trainloader = DataLoader(Train,batch_size=batch_size)\n",
    "Testloader = DataLoader(Test, batch_size=batch_size)"
   ]
  },
  {
   "cell_type": "code",
   "execution_count": 26,
   "metadata": {},
   "outputs": [
    {
     "ename": "RuntimeError",
     "evalue": "Given groups=1, weight of size [32, 3, 3, 3], expected input[1, 32, 32, 32] to have 3 channels, but got 32 channels instead",
     "output_type": "error",
     "traceback": [
      "\u001b[1;31m---------------------------------------------------------------------------\u001b[0m",
      "\u001b[1;31mRuntimeError\u001b[0m                              Traceback (most recent call last)",
      "\u001b[1;32mc:\\GitHub\\EEGLearn-Pytorch-fork\\EEGLearn_ShortDemo.ipynb Cell 33\u001b[0m line \u001b[0;36m1\n\u001b[1;32m----> <a href='vscode-notebook-cell:/c%3A/GitHub/EEGLearn-Pytorch-fork/EEGLearn_ShortDemo.ipynb#X35sZmlsZQ%3D%3D?line=0'>1</a>\u001b[0m res \u001b[39m=\u001b[39m TrainTest_Model(MaxCNN, Trainloader, Testloader, n_epoch\u001b[39m=\u001b[39;49m\u001b[39m1\u001b[39;49m, learning_rate\u001b[39m=\u001b[39;49m\u001b[39m0.001\u001b[39;49m, print_epoch\u001b[39m=\u001b[39;49m\u001b[39m5\u001b[39;49m, opti\u001b[39m=\u001b[39;49m\u001b[39m'\u001b[39;49m\u001b[39mAdam\u001b[39;49m\u001b[39m'\u001b[39;49m)\n",
      "File \u001b[1;32mc:\\GitHub\\EEGLearn-Pytorch-fork\\Utils.py:119\u001b[0m, in \u001b[0;36mTrainTest_Model\u001b[1;34m(model, trainloader, testloader, n_epoch, opti, learning_rate, is_cuda, print_epoch, verbose)\u001b[0m\n\u001b[0;32m    116\u001b[0m optimizer\u001b[39m.\u001b[39mzero_grad()\n\u001b[0;32m    118\u001b[0m \u001b[39m# forward + backward + optimize\u001b[39;00m\n\u001b[1;32m--> 119\u001b[0m outputs \u001b[39m=\u001b[39m net(inputs\u001b[39m.\u001b[39;49mto(torch\u001b[39m.\u001b[39;49mfloat32))\n\u001b[0;32m    120\u001b[0m _, predicted \u001b[39m=\u001b[39m torch\u001b[39m.\u001b[39mmax(outputs\u001b[39m.\u001b[39mcpu()\u001b[39m.\u001b[39mdata, \u001b[39m1\u001b[39m)\n\u001b[0;32m    121\u001b[0m evaluation\u001b[39m.\u001b[39mappend((predicted\u001b[39m==\u001b[39mlabels)\u001b[39m.\u001b[39mtolist())\n",
      "File \u001b[1;32m~\\AppData\\Roaming\\Python\\Python310\\site-packages\\torch\\nn\\modules\\module.py:1518\u001b[0m, in \u001b[0;36mModule._wrapped_call_impl\u001b[1;34m(self, *args, **kwargs)\u001b[0m\n\u001b[0;32m   1516\u001b[0m     \u001b[39mreturn\u001b[39;00m \u001b[39mself\u001b[39m\u001b[39m.\u001b[39m_compiled_call_impl(\u001b[39m*\u001b[39margs, \u001b[39m*\u001b[39m\u001b[39m*\u001b[39mkwargs)  \u001b[39m# type: ignore[misc]\u001b[39;00m\n\u001b[0;32m   1517\u001b[0m \u001b[39melse\u001b[39;00m:\n\u001b[1;32m-> 1518\u001b[0m     \u001b[39mreturn\u001b[39;00m \u001b[39mself\u001b[39m\u001b[39m.\u001b[39m_call_impl(\u001b[39m*\u001b[39margs, \u001b[39m*\u001b[39m\u001b[39m*\u001b[39mkwargs)\n",
      "File \u001b[1;32m~\\AppData\\Roaming\\Python\\Python310\\site-packages\\torch\\nn\\modules\\module.py:1527\u001b[0m, in \u001b[0;36mModule._call_impl\u001b[1;34m(self, *args, **kwargs)\u001b[0m\n\u001b[0;32m   1522\u001b[0m \u001b[39m# If we don't have any hooks, we want to skip the rest of the logic in\u001b[39;00m\n\u001b[0;32m   1523\u001b[0m \u001b[39m# this function, and just call forward.\u001b[39;00m\n\u001b[0;32m   1524\u001b[0m \u001b[39mif\u001b[39;00m \u001b[39mnot\u001b[39;00m (\u001b[39mself\u001b[39m\u001b[39m.\u001b[39m_backward_hooks \u001b[39mor\u001b[39;00m \u001b[39mself\u001b[39m\u001b[39m.\u001b[39m_backward_pre_hooks \u001b[39mor\u001b[39;00m \u001b[39mself\u001b[39m\u001b[39m.\u001b[39m_forward_hooks \u001b[39mor\u001b[39;00m \u001b[39mself\u001b[39m\u001b[39m.\u001b[39m_forward_pre_hooks\n\u001b[0;32m   1525\u001b[0m         \u001b[39mor\u001b[39;00m _global_backward_pre_hooks \u001b[39mor\u001b[39;00m _global_backward_hooks\n\u001b[0;32m   1526\u001b[0m         \u001b[39mor\u001b[39;00m _global_forward_hooks \u001b[39mor\u001b[39;00m _global_forward_pre_hooks):\n\u001b[1;32m-> 1527\u001b[0m     \u001b[39mreturn\u001b[39;00m forward_call(\u001b[39m*\u001b[39margs, \u001b[39m*\u001b[39m\u001b[39m*\u001b[39mkwargs)\n\u001b[0;32m   1529\u001b[0m \u001b[39mtry\u001b[39;00m:\n\u001b[0;32m   1530\u001b[0m     result \u001b[39m=\u001b[39m \u001b[39mNone\u001b[39;00m\n",
      "File \u001b[1;32mc:\\GitHub\\EEGLearn-Pytorch-fork\\Models.py:127\u001b[0m, in \u001b[0;36mMaxCNN.forward\u001b[1;34m(self, x)\u001b[0m\n\u001b[0;32m    125\u001b[0m     tmp \u001b[39m=\u001b[39m torch\u001b[39m.\u001b[39mzeros(x\u001b[39m.\u001b[39mshape[\u001b[39m0\u001b[39m],x\u001b[39m.\u001b[39mshape[\u001b[39m1\u001b[39m],\u001b[39m128\u001b[39m,\u001b[39m4\u001b[39m,\u001b[39m4\u001b[39m)\u001b[39m.\u001b[39mcpu()\n\u001b[0;32m    126\u001b[0m \u001b[39mfor\u001b[39;00m i \u001b[39min\u001b[39;00m \u001b[39mrange\u001b[39m(\u001b[39m7\u001b[39m):\n\u001b[1;32m--> 127\u001b[0m     tmp[:,i] \u001b[39m=\u001b[39m \u001b[39mself\u001b[39m\u001b[39m.\u001b[39mpool1( F\u001b[39m.\u001b[39mrelu(\u001b[39mself\u001b[39m\u001b[39m.\u001b[39mconv7(\u001b[39mself\u001b[39m\u001b[39m.\u001b[39mpool1(F\u001b[39m.\u001b[39mrelu(\u001b[39mself\u001b[39m\u001b[39m.\u001b[39mconv6(F\u001b[39m.\u001b[39mrelu(\u001b[39mself\u001b[39m\u001b[39m.\u001b[39mconv5(\u001b[39mself\u001b[39m\u001b[39m.\u001b[39mpool1( F\u001b[39m.\u001b[39mrelu(\u001b[39mself\u001b[39m\u001b[39m.\u001b[39mconv4(F\u001b[39m.\u001b[39mrelu(\u001b[39mself\u001b[39m\u001b[39m.\u001b[39mconv3( F\u001b[39m.\u001b[39mrelu(\u001b[39mself\u001b[39m\u001b[39m.\u001b[39mconv2(F\u001b[39m.\u001b[39mrelu(\u001b[39mself\u001b[39;49m\u001b[39m.\u001b[39;49mconv1(x[:,i])))))))))))))))))\n\u001b[0;32m    128\u001b[0m x \u001b[39m=\u001b[39m tmp\u001b[39m.\u001b[39mreshape(x\u001b[39m.\u001b[39mshape[\u001b[39m0\u001b[39m], x\u001b[39m.\u001b[39mshape[\u001b[39m1\u001b[39m],\u001b[39m4\u001b[39m\u001b[39m*\u001b[39m\u001b[39m128\u001b[39m\u001b[39m*\u001b[39m\u001b[39m4\u001b[39m,\u001b[39m1\u001b[39m)\n\u001b[0;32m    129\u001b[0m x \u001b[39m=\u001b[39m \u001b[39mself\u001b[39m\u001b[39m.\u001b[39mpool(x)\n",
      "File \u001b[1;32m~\\AppData\\Roaming\\Python\\Python310\\site-packages\\torch\\nn\\modules\\module.py:1518\u001b[0m, in \u001b[0;36mModule._wrapped_call_impl\u001b[1;34m(self, *args, **kwargs)\u001b[0m\n\u001b[0;32m   1516\u001b[0m     \u001b[39mreturn\u001b[39;00m \u001b[39mself\u001b[39m\u001b[39m.\u001b[39m_compiled_call_impl(\u001b[39m*\u001b[39margs, \u001b[39m*\u001b[39m\u001b[39m*\u001b[39mkwargs)  \u001b[39m# type: ignore[misc]\u001b[39;00m\n\u001b[0;32m   1517\u001b[0m \u001b[39melse\u001b[39;00m:\n\u001b[1;32m-> 1518\u001b[0m     \u001b[39mreturn\u001b[39;00m \u001b[39mself\u001b[39m\u001b[39m.\u001b[39m_call_impl(\u001b[39m*\u001b[39margs, \u001b[39m*\u001b[39m\u001b[39m*\u001b[39mkwargs)\n",
      "File \u001b[1;32m~\\AppData\\Roaming\\Python\\Python310\\site-packages\\torch\\nn\\modules\\module.py:1527\u001b[0m, in \u001b[0;36mModule._call_impl\u001b[1;34m(self, *args, **kwargs)\u001b[0m\n\u001b[0;32m   1522\u001b[0m \u001b[39m# If we don't have any hooks, we want to skip the rest of the logic in\u001b[39;00m\n\u001b[0;32m   1523\u001b[0m \u001b[39m# this function, and just call forward.\u001b[39;00m\n\u001b[0;32m   1524\u001b[0m \u001b[39mif\u001b[39;00m \u001b[39mnot\u001b[39;00m (\u001b[39mself\u001b[39m\u001b[39m.\u001b[39m_backward_hooks \u001b[39mor\u001b[39;00m \u001b[39mself\u001b[39m\u001b[39m.\u001b[39m_backward_pre_hooks \u001b[39mor\u001b[39;00m \u001b[39mself\u001b[39m\u001b[39m.\u001b[39m_forward_hooks \u001b[39mor\u001b[39;00m \u001b[39mself\u001b[39m\u001b[39m.\u001b[39m_forward_pre_hooks\n\u001b[0;32m   1525\u001b[0m         \u001b[39mor\u001b[39;00m _global_backward_pre_hooks \u001b[39mor\u001b[39;00m _global_backward_hooks\n\u001b[0;32m   1526\u001b[0m         \u001b[39mor\u001b[39;00m _global_forward_hooks \u001b[39mor\u001b[39;00m _global_forward_pre_hooks):\n\u001b[1;32m-> 1527\u001b[0m     \u001b[39mreturn\u001b[39;00m forward_call(\u001b[39m*\u001b[39margs, \u001b[39m*\u001b[39m\u001b[39m*\u001b[39mkwargs)\n\u001b[0;32m   1529\u001b[0m \u001b[39mtry\u001b[39;00m:\n\u001b[0;32m   1530\u001b[0m     result \u001b[39m=\u001b[39m \u001b[39mNone\u001b[39;00m\n",
      "File \u001b[1;32m~\\AppData\\Roaming\\Python\\Python310\\site-packages\\torch\\nn\\modules\\conv.py:460\u001b[0m, in \u001b[0;36mConv2d.forward\u001b[1;34m(self, input)\u001b[0m\n\u001b[0;32m    459\u001b[0m \u001b[39mdef\u001b[39;00m \u001b[39mforward\u001b[39m(\u001b[39mself\u001b[39m, \u001b[39minput\u001b[39m: Tensor) \u001b[39m-\u001b[39m\u001b[39m>\u001b[39m Tensor:\n\u001b[1;32m--> 460\u001b[0m     \u001b[39mreturn\u001b[39;00m \u001b[39mself\u001b[39;49m\u001b[39m.\u001b[39;49m_conv_forward(\u001b[39minput\u001b[39;49m, \u001b[39mself\u001b[39;49m\u001b[39m.\u001b[39;49mweight, \u001b[39mself\u001b[39;49m\u001b[39m.\u001b[39;49mbias)\n",
      "File \u001b[1;32m~\\AppData\\Roaming\\Python\\Python310\\site-packages\\torch\\nn\\modules\\conv.py:456\u001b[0m, in \u001b[0;36mConv2d._conv_forward\u001b[1;34m(self, input, weight, bias)\u001b[0m\n\u001b[0;32m    452\u001b[0m \u001b[39mif\u001b[39;00m \u001b[39mself\u001b[39m\u001b[39m.\u001b[39mpadding_mode \u001b[39m!=\u001b[39m \u001b[39m'\u001b[39m\u001b[39mzeros\u001b[39m\u001b[39m'\u001b[39m:\n\u001b[0;32m    453\u001b[0m     \u001b[39mreturn\u001b[39;00m F\u001b[39m.\u001b[39mconv2d(F\u001b[39m.\u001b[39mpad(\u001b[39minput\u001b[39m, \u001b[39mself\u001b[39m\u001b[39m.\u001b[39m_reversed_padding_repeated_twice, mode\u001b[39m=\u001b[39m\u001b[39mself\u001b[39m\u001b[39m.\u001b[39mpadding_mode),\n\u001b[0;32m    454\u001b[0m                     weight, bias, \u001b[39mself\u001b[39m\u001b[39m.\u001b[39mstride,\n\u001b[0;32m    455\u001b[0m                     _pair(\u001b[39m0\u001b[39m), \u001b[39mself\u001b[39m\u001b[39m.\u001b[39mdilation, \u001b[39mself\u001b[39m\u001b[39m.\u001b[39mgroups)\n\u001b[1;32m--> 456\u001b[0m \u001b[39mreturn\u001b[39;00m F\u001b[39m.\u001b[39;49mconv2d(\u001b[39minput\u001b[39;49m, weight, bias, \u001b[39mself\u001b[39;49m\u001b[39m.\u001b[39;49mstride,\n\u001b[0;32m    457\u001b[0m                 \u001b[39mself\u001b[39;49m\u001b[39m.\u001b[39;49mpadding, \u001b[39mself\u001b[39;49m\u001b[39m.\u001b[39;49mdilation, \u001b[39mself\u001b[39;49m\u001b[39m.\u001b[39;49mgroups)\n",
      "\u001b[1;31mRuntimeError\u001b[0m: Given groups=1, weight of size [32, 3, 3, 3], expected input[1, 32, 32, 32] to have 3 channels, but got 32 channels instead"
     ]
    }
   ],
   "source": [
    "res = TrainTest_Model(MaxCNN, Trainloader, Testloader, n_epoch=1, learning_rate=0.001, print_epoch=5, opti='Adam')"
   ]
  },
  {
   "cell_type": "code",
   "execution_count": null,
   "metadata": {},
   "outputs": [],
   "source": [
    "net = MaxCNN()\n",
    "net.load_state_dict(torch.load('MaxCNN.pt'))\n",
    "criterion = nn.CrossEntropyLoss()\n",
    "\n",
    "res, embeddings = Test_Model(net, Testloader, criterion, True)"
   ]
  },
  {
   "cell_type": "markdown",
   "metadata": {},
   "source": [
    "## Temp CNN\n",
    "FBuild the Conv1D model performing a convolution1D over the 7 parallel convnets."
   ]
  },
  {
   "cell_type": "code",
   "execution_count": null,
   "metadata": {},
   "outputs": [],
   "source": [
    "print('Begin Training for Patient '+str(choosen_patient))\n",
    "res = TrainTest_Model(TempCNN, Trainloader, Testloader, n_epoch=45, learning_rate=0.001, print_epoch=5, opti='Adam')"
   ]
  },
  {
   "cell_type": "markdown",
   "metadata": {},
   "source": [
    "## LSTM CNN\n",
    "Build the LSTM model applying a RNN over the 7 parallel convnets outputs"
   ]
  },
  {
   "cell_type": "code",
   "execution_count": null,
   "metadata": {},
   "outputs": [],
   "source": [
    "EEG = EEGImagesDataset(label=Label[Patient_id==choosen_patient], image=Images[Patient_id==choosen_patient])\n",
    "\n",
    "lengths = [int(len(EEG)*train_part+1), int(len(EEG)*test_part)]\n",
    "Train, Test = random_split(EEG, lengths)\n",
    "\n",
    "Trainloader = DataLoader(Train,batch_size=batch_size)\n",
    "Testloader = DataLoader(Test, batch_size=batch_size)"
   ]
  },
  {
   "cell_type": "code",
   "execution_count": null,
   "metadata": {},
   "outputs": [],
   "source": [
    "print('Begin Training for Patient '+str(choosen_patient))\n",
    "res = TrainTest_Model(LSTM, Trainloader, Testloader, n_epoch=45, learning_rate=0.0001, print_epoch=5, opti='Adam')"
   ]
  },
  {
   "cell_type": "markdown",
   "metadata": {},
   "source": [
    "## Mix CNN\n",
    "Build the LSTM model applying a RNN and a CNN over the 7 parallel convnets outputs"
   ]
  },
  {
   "cell_type": "code",
   "execution_count": null,
   "metadata": {},
   "outputs": [],
   "source": [
    "EEG = EEGImagesDataset(label=Label[Patient_id==choosen_patient], image=Images[Patient_id==choosen_patient])\n",
    "\n",
    "lengths = [int(len(EEG)*train_part+1), int(len(EEG)*test_part)]\n",
    "Train, Test = random_split(EEG, lengths)\n",
    "\n",
    "Trainloader = DataLoader(Train,batch_size=batch_size)\n",
    "Testloader = DataLoader(Test, batch_size=batch_size)"
   ]
  },
  {
   "cell_type": "code",
   "execution_count": null,
   "metadata": {},
   "outputs": [],
   "source": [
    "print('Begin Training for Patient '+str(choosen_patient))\n",
    "res = TrainTest_Model(Mix, Trainloader, Testloader, n_epoch=60, learning_rate=0.00001, print_epoch=5, opti='Adam')"
   ]
  }
 ],
 "metadata": {
  "kernelspec": {
   "display_name": "Python 3",
   "language": "python",
   "name": "python3"
  },
  "language_info": {
   "codemirror_mode": {
    "name": "ipython",
    "version": 3
   },
   "file_extension": ".py",
   "mimetype": "text/x-python",
   "name": "python",
   "nbconvert_exporter": "python",
   "pygments_lexer": "ipython3",
   "version": "3.10.5"
  }
 },
 "nbformat": 4,
 "nbformat_minor": 2
}
